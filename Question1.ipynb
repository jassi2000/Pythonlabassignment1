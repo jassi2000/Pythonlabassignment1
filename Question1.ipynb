{
 "cells": [
  {
   "cell_type": "code",
   "execution_count": 2,
   "metadata": {},
   "outputs": [
    {
     "name": "stdout",
     "output_type": "stream",
     "text": [
      "Enter your name: \tHARNAM KAUR\n",
      "Enter your age: \t22\n",
      "Enter the number of times you want to print the message addressed that tells you the year that you will turn 100 years old. \t20\n",
      "Hi! HARNAM KAUR, and you will be turn 100 years old in 2099\n",
      "\n",
      "Printing Multiple Copies \n",
      "\n",
      "Hi! HARNAM KAUR, and you will be turn 100 years old in 2099\n",
      "\n",
      "Hi! HARNAM KAUR, and you will be turn 100 years old in 2099\n",
      "\n",
      "Hi! HARNAM KAUR, and you will be turn 100 years old in 2099\n",
      "\n",
      "Hi! HARNAM KAUR, and you will be turn 100 years old in 2099\n",
      "\n",
      "Hi! HARNAM KAUR, and you will be turn 100 years old in 2099\n",
      "\n",
      "Hi! HARNAM KAUR, and you will be turn 100 years old in 2099\n",
      "\n",
      "Hi! HARNAM KAUR, and you will be turn 100 years old in 2099\n",
      "\n",
      "Hi! HARNAM KAUR, and you will be turn 100 years old in 2099\n",
      "\n",
      "Hi! HARNAM KAUR, and you will be turn 100 years old in 2099\n",
      "\n",
      "Hi! HARNAM KAUR, and you will be turn 100 years old in 2099\n",
      "\n",
      "Hi! HARNAM KAUR, and you will be turn 100 years old in 2099\n",
      "\n",
      "Hi! HARNAM KAUR, and you will be turn 100 years old in 2099\n",
      "\n",
      "Hi! HARNAM KAUR, and you will be turn 100 years old in 2099\n",
      "\n",
      "Hi! HARNAM KAUR, and you will be turn 100 years old in 2099\n",
      "\n",
      "Hi! HARNAM KAUR, and you will be turn 100 years old in 2099\n",
      "\n",
      "Hi! HARNAM KAUR, and you will be turn 100 years old in 2099\n",
      "\n",
      "Hi! HARNAM KAUR, and you will be turn 100 years old in 2099\n",
      "\n",
      "Hi! HARNAM KAUR, and you will be turn 100 years old in 2099\n",
      "\n",
      "Hi! HARNAM KAUR, and you will be turn 100 years old in 2099\n",
      "\n",
      "Hi! HARNAM KAUR, and you will be turn 100 years old in 2099\n",
      "\n"
     ]
    }
   ],
   "source": [
    "import datetime\n",
    "## Question1\n",
    "def printName():\n",
    "    name = input(\"Enter your name: \\t\")\n",
    "    age = int(input(\"Enter your age: \\t\"))\n",
    "    number = int(input(\"Enter the number of times you want to print the message addressed that tells you the year that you will turn 100 years old. \\t\"))\n",
    "    age_100 = (datetime.datetime.now().year) + (100-age)\n",
    "    print(\"Hi! \"+name+ \", and you will be turn 100 years old in \"+ str(age_100)+\"\\n\")\n",
    "          \n",
    "    print(\"Printing Multiple Copies \\n\")\n",
    "    for i in range(number):\n",
    "        print(\"Hi! \"+name+ \", and you will be turn 100 years old in \"+ str(age_100)+\"\\n\")\n",
    "   \n",
    "printName()"
   ]
  },
  {
   "cell_type": "code",
   "execution_count": null,
   "metadata": {},
   "outputs": [],
   "source": []
  }
 ],
 "metadata": {
  "kernelspec": {
   "display_name": "Python 3",
   "language": "python",
   "name": "python3"
  },
  "language_info": {
   "codemirror_mode": {
    "name": "ipython",
    "version": 3
   },
   "file_extension": ".py",
   "mimetype": "text/x-python",
   "name": "python",
   "nbconvert_exporter": "python",
   "pygments_lexer": "ipython3",
   "version": "3.8.5"
  }
 },
 "nbformat": 4,
 "nbformat_minor": 4
}
